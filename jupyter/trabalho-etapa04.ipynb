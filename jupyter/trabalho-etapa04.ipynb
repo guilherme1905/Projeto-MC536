{
 "cells": [
  {
   "cell_type": "markdown",
   "metadata": {},
   "source": [
    "# Modelo Lógico XML\n",
    "\n",
    "![xml](https://github.com/guilherme1905/Projeto-MC536/raw/master/documentos/modelo_logico_xml.png)"
   ]
  },
  {
   "cell_type": "markdown",
   "metadata": {},
   "source": [
    "# Queries\n",
    "\n",
    "* Todas as queries utilizam o xml em \n",
    "https://github.com/guilherme1905/Projeto-MC536/raw/master/jupyter/data/regioes.xml\n",
    "\n",
    "### 1.\n",
    "* Lista os estados, com suas respectivas doenças:\n",
    "```xQuery\n",
    "for $i in regioes//regiao//estado\n",
    "return \n",
    "<estado>{data($i/@nome)}\n",
    "<doencas>{data($i//doenca/@nome)}</doencas>\n",
    "</estado>\n",
    "```\n",
    "![q1](https://github.com/guilherme1905/Projeto-MC536/raw/master/jupyter/img/etapa04-q1-xml.jpg)\n",
    "### 2.\n",
    "* Lista os estados com o número de doenças que infectam a região\n",
    "```xQuery\n",
    "for $i in regioes//regiao//estado\n",
    "return \n",
    "<estado>{data($i/@nome)}\n",
    "<ndoencas>{count($i//doenca)}</ndoencas>\n",
    "</estado>\n",
    "```\n",
    "![q2](![xml](https://github.com/guilherme1905/Projeto-MC536/raw/master/jupyter/img/etapa04-q2-xml.jpg)\n",
    "### 3.\n",
    "* Lista os estados e o número de doenças que possuem mais de 100 casos registrados\n",
    "```xQuery\n",
    "for $i in regioes//regiao//estado\n",
    "where $i//doenca[casos > 100]\n",
    "return \n",
    "<estado>{data($i/@nome)}\n",
    "<ndoencas>{count($i//doenca)}</ndoencas>\n",
    "</estado>\n",
    "```\n",
    "![q3](![xml](https://github.com/guilherme1905/Projeto-MC536/raw/master/jupyter/img/etapa04-q3-xml.jpg)\n",
    "### 4.\n",
    "* Lista as grandes regiões brasileiras e o número de casos de doenças tratáveis por vacina\n",
    "```xQuery\n",
    "for $i in regioes//regiao\n",
    "where $i//doenca[tratamento = \"Vacina\"]\n",
    "return <regiao>{data($i/@nome)}<casos>{sum($i//estado//doenca//casos)}</casos></regiao>\n",
    "```\n",
    "![q4](![xml](https://github.com/guilherme1905/Projeto-MC536/raw/master/jupyter/img/etapa04-q4-xml.jpg)\n",
    "### 5.\n",
    "* Lista os estados e o número de casos que possuem tratamento com vacinas ou não\n",
    "```xQuery\n",
    "for $i in regioes//regiao//estado\n",
    "where $i//doenca[tratamento = \"Vacina\"]\n",
    "return if ($i//doenca[tratamento = \"Vacina\"]) then\n",
    "<estado>{data($i/@nome)}\n",
    "<trata_com_vacina>{sum($i//doenca//casos)}</trata_com_vacina>\n",
    "</estado>\n",
    "else\n",
    "<estado>{data($i/@nome)}\n",
    "<n_trata_com_vacina>{sum($i//doenca//casos)}</n_trata_com_vacina>\n",
    "</estado>\n",
    "```\n",
    "![q5](![xml](https://github.com/guilherme1905/Projeto-MC536/raw/master/jupyter/img/etapa04-q5-xml.jpg)"
   ]
  }
 ],
 "metadata": {
  "kernelspec": {
   "display_name": "SQL",
   "language": "SQL",
   "name": "sql"
  },
  "language_info": {
   "name": ""
  }
 },
 "nbformat": 4,
 "nbformat_minor": 2
}
