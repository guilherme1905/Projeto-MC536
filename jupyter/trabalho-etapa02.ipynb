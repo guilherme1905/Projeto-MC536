{
 "cells": [
  {
   "cell_type": "code",
   "execution_count": 17,
   "metadata": {},
   "outputs": [],
   "source": [
    "%defaultDatasource jdbc:h2:mem:db"
   ]
  },
  {
   "cell_type": "code",
   "execution_count": 12,
   "metadata": {},
   "outputs": [],
   "source": [
    "DROP TABLE IF EXISTS UF;\n",
    "\n",
    "CREATE TABLE UF (\n",
    "    nome VARCHAR (20) NOT NULL,\n",
    "    regiao VARCHAR(5) NOT NULL,\n",
    "    n_municipios INT NOT NULL,\n",
    "    PRIMARY KEY (nome),\n",
    ");\n",
    "\n",
    "INSERT INTO UF VALUES ('Rondonia', 'N', 52);\n",
    "INSERT INTO UF VALUES ('Acre', 'N', 22);\n",
    "INSERT INTO UF VALUES ('Amazonas', 'N', 62);\n",
    "INSERT INTO UF VALUES ('Roraima', 'N', 15);\n",
    "INSERT INTO UF VALUES ('Para', 'N', 144);\n",
    "INSERT INTO UF VALUES ('Amapa', 'N', 16);\n",
    "INSERT INTO UF VALUES ('Tocantins', 'N', 139);\n",
    "INSERT INTO UF VALUES ('Minas Gerais', 'SE', 853);\n",
    "INSERT INTO UF VALUES ('Espirito Santo', 'SE', 78);\n",
    "INSERT INTO UF VALUES ('Rio de Janeiro', 'SE', 92);\n",
    "INSERT INTO UF VALUES ('Sao Paulo', 'SE', 645);\n",
    "INSERT INTO UF VALUES ('Parana', 'S', 399);\n",
    "INSERT INTO UF VALUES ('Santa Catarina', 'S', 295);\n",
    "INSERT INTO UF VALUES ('Rio Grande do Sul', 'S', 497);\n",
    "INSERT INTO UF VALUES ('Mato Grosso do Sul', 'CO', 79);\n",
    "INSERT INTO UF VALUES ('Mato Grosso', 'CO', 141);\n",
    "INSERT INTO UF VALUES ('Goias', 'CO', 246);\n",
    "INSERT INTO UF VALUES ('Distrito Federal', 'CO', 1);\n",
    "INSERT INTO UF VALUES ('Maranhao', 'NE', 217);\n",
    "INSERT INTO UF VALUES ('Piaui', 'NE', 224);\n",
    "INSERT INTO UF VALUES ('Ceara', 'NE', 184);\n",
    "INSERT INTO UF VALUES ('Rio Grande do Norte', 'NE', 167);\n",
    "INSERT INTO UF VALUES ('Paraiba', 'NE', 223);\n",
    "INSERT INTO UF VALUES ('Pernambuco', 'NE', 185);\n",
    "INSERT INTO UF VALUES ('Alagoas', 'NE', 102);\n",
    "INSERT INTO UF VALUES ('Sergipe', 'NE', 75);\n",
    "INSERT INTO UF VALUES ('Bahia', 'NE', 417);"
   ]
  },
  {
   "cell_type": "code",
   "execution_count": 13,
   "metadata": {},
   "outputs": [],
   "source": [
    "DROP TABLE IF EXISTS Regiao;\n",
    "\n",
    "CREATE TABLE Regiao (\n",
    "    nome VARCHAR(20) NOT NULL,\n",
    "    nMunicipios INT NOT NULL,\n",
    "    PRIMARY KEY(nome)\n",
    ") AS SELECT\n",
    "    regiao,\n",
    "    SUM(n_municipios)\n",
    "    FROM UF\n",
    "    GROUP BY regiao;"
   ]
  },
  {
   "cell_type": "code",
   "execution_count": 22,
   "metadata": {},
   "outputs": [],
   "source": [
    "DROP TABLE IF EXISTS Doenca;\n",
    "\n",
    "CREATE TABLE Doenca (\n",
    "    nome VARCHAR(50) NOT NULL,\n",
    "    contaminacao VARCHAR(50),\n",
    "    PRIMARY KEY(nome)\n",
    ") AS SELECT\n",
    "    Nome,\n",
    "    Contaminacao\n",
    "    FROM CSVREAD('data/doencas.csv');"
   ]
  },
  {
   "cell_type": "code",
   "execution_count": 26,
   "metadata": {
    "scrolled": true
   },
   "outputs": [],
   "source": [
    "DROP TABLE IF EXISTS DoencasPorEstado;\n",
    "\n",
    "CREATE TABLE DoencasPorEstado (\n",
    "    nomeDoenca VARCHAR(50) NOT NULL,\n",
    "    estado VARCHAR(20) NULL,\n",
    "    nCasos INT NOT NULL,\n",
    "    FOREIGN KEY(nomeDoenca)\n",
    "        REFERENCES Doenca(nome)\n",
    "        ON UPDATE CASCADE\n",
    "        ON DELETE CASCADE,\n",
    "    FOREIGN KEY(estado)\n",
    "        REFERENCES UF(nome)\n",
    "        ON UPDATE CASCADE\n",
    "        ON DELETE CASCADE\n",
    ") AS SELECT\n",
    "    Doenca,\n",
    "    UF,\n",
    "    Casos\n",
    "    FROM CSVREAD('data/doencas_por_estado.csv');"
   ]
  },
  {
   "cell_type": "code",
   "execution_count": 31,
   "metadata": {},
   "outputs": [],
   "source": [
    "CREATE TABLE DoencasPorRegiao (\n",
    "    nomeDoenca VARCHAR(50) NOT NULL,\n",
    "    regiao VARCHAR(2) NULL,\n",
    "    nCasos INT NOT NULL,\n",
    "    FOREIGN KEY(nomeDoenca)\n",
    "        REFERENCES Doenca\n",
    "        ON UPDATE CASCADE\n",
    "        ON DELETE CASCADE,\n",
    "    FOREIGN KEY(regiao)\n",
    "        REFERENCES Regiao\n",
    "        ON UPDATE CASCADE\n",
    "        ON DELETE CASCADE\n",
    ") AS SELECT\n",
    "    DE.nomeDoenca,\n",
    "    UF.regiao,\n",
    "    SUM(DE.nCasos)\n",
    "    FROM DoencasPorEstado DE, UF\n",
    "    WHERE DE.estado = UF.nome\n",
    "    GROUP BY regiao, nomeDoenca;"
   ]
  },
  {
   "cell_type": "code",
   "execution_count": 27,
   "metadata": {},
   "outputs": [
    {
     "data": {
      "application/vnd.jupyter.widget-view+json": {
       "model_id": "f4a02afe-82f6-42b6-9d1a-81eea19e36aa",
       "version_major": 2,
       "version_minor": 0
      },
      "method": "display_data"
     },
     "metadata": {},
     "output_type": "display_data"
    }
   ],
   "source": [
    "SELECT * FROM DoencasPorEstado;"
   ]
  },
  {
   "cell_type": "code",
   "execution_count": 33,
   "metadata": {},
   "outputs": [
    {
     "data": {
      "application/vnd.jupyter.widget-view+json": {
       "model_id": "5290ebec-c961-4037-8fbd-77983131ff04",
       "version_major": 2,
       "version_minor": 0
      },
      "method": "display_data"
     },
     "metadata": {},
     "output_type": "display_data"
    }
   ],
   "source": [
    "SELECT * FROM DoencasPorRegiao;"
   ]
  },
  {
   "cell_type": "code",
   "execution_count": null,
   "metadata": {},
   "outputs": [],
   "source": []
  }
 ],
 "metadata": {
  "kernelspec": {
   "display_name": "SQL",
   "language": "SQL",
   "name": "sql"
  },
  "language_info": {
   "codemirror_mode": "sql",
   "file_extension": ".sql",
   "mimetype": "",
   "name": "SQL",
   "nbconverter_exporter": "",
   "version": ""
  },
  "toc": {
   "base_numbering": 1,
   "nav_menu": {},
   "number_sections": false,
   "sideBar": false,
   "skip_h1_title": false,
   "title_cell": "Table of Contents",
   "title_sidebar": "Contents",
   "toc_cell": false,
   "toc_position": {},
   "toc_section_display": false,
   "toc_window_display": false
  }
 },
 "nbformat": 4,
 "nbformat_minor": 2
}
