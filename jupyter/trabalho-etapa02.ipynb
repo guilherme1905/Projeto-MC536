{
 "cells": [
  {
   "cell_type": "markdown",
   "metadata": {},
   "source": [
    "# 1. Modelo Conceitual\n",
    "![Modelo Conceitual](https://github.com/guilherme1905/Projeto-MC536/raw/master/documentos/modelo_conceitual_v3.png)"
   ]
  },
  {
   "cell_type": "markdown",
   "metadata": {},
   "source": [
    "# 2.Modelo Lógico\n",
    "![Modelo Lógico](https://github.com/guilherme1905/Projeto-MC536/raw/master/documentos/modelo_logico_v1.png)"
   ]
  },
  {
   "cell_type": "code",
   "execution_count": 1,
   "metadata": {},
   "outputs": [],
   "source": [
    "%defaultDatasource jdbc:h2:mem:db"
   ]
  },
  {
   "cell_type": "markdown",
   "metadata": {},
   "source": [
    "## Estados"
   ]
  },
  {
   "cell_type": "code",
   "execution_count": 2,
   "metadata": {},
   "outputs": [],
   "source": [
    "DROP TABLE IF EXISTS UF;\n",
    "\n",
    "CREATE TABLE UF (\n",
    "    nome VARCHAR (20) NOT NULL,\n",
    "    regiao VARCHAR(5) NOT NULL,\n",
    "    n_municipios INT NOT NULL,\n",
    "    PRIMARY KEY (nome),\n",
    ");\n",
    "\n",
    "INSERT INTO UF VALUES ('Rondonia', 'N', 52);\n",
    "INSERT INTO UF VALUES ('Acre', 'N', 22);\n",
    "INSERT INTO UF VALUES ('Amazonas', 'N', 62);\n",
    "INSERT INTO UF VALUES ('Roraima', 'N', 15);\n",
    "INSERT INTO UF VALUES ('Para', 'N', 144);\n",
    "INSERT INTO UF VALUES ('Amapa', 'N', 16);\n",
    "INSERT INTO UF VALUES ('Tocantins', 'N', 139);\n",
    "INSERT INTO UF VALUES ('Minas Gerais', 'SE', 853);\n",
    "INSERT INTO UF VALUES ('Espirito Santo', 'SE', 78);\n",
    "INSERT INTO UF VALUES ('Rio de Janeiro', 'SE', 92);\n",
    "INSERT INTO UF VALUES ('Sao Paulo', 'SE', 645);\n",
    "INSERT INTO UF VALUES ('Parana', 'S', 399);\n",
    "INSERT INTO UF VALUES ('Santa Catarina', 'S', 295);\n",
    "INSERT INTO UF VALUES ('Rio Grande do Sul', 'S', 497);\n",
    "INSERT INTO UF VALUES ('Mato Grosso do Sul', 'CO', 79);\n",
    "INSERT INTO UF VALUES ('Mato Grosso', 'CO', 141);\n",
    "INSERT INTO UF VALUES ('Goias', 'CO', 246);\n",
    "INSERT INTO UF VALUES ('Distrito Federal', 'CO', 1);\n",
    "INSERT INTO UF VALUES ('Maranhao', 'NE', 217);\n",
    "INSERT INTO UF VALUES ('Piaui', 'NE', 224);\n",
    "INSERT INTO UF VALUES ('Ceara', 'NE', 184);\n",
    "INSERT INTO UF VALUES ('Rio Grande do Norte', 'NE', 167);\n",
    "INSERT INTO UF VALUES ('Paraiba', 'NE', 223);\n",
    "INSERT INTO UF VALUES ('Pernambuco', 'NE', 185);\n",
    "INSERT INTO UF VALUES ('Alagoas', 'NE', 102);\n",
    "INSERT INTO UF VALUES ('Sergipe', 'NE', 75);\n",
    "INSERT INTO UF VALUES ('Bahia', 'NE', 417);"
   ]
  },
  {
   "cell_type": "markdown",
   "metadata": {},
   "source": [
    "## Regiões do Brasil"
   ]
  },
  {
   "cell_type": "code",
   "execution_count": 3,
   "metadata": {},
   "outputs": [],
   "source": [
    "DROP TABLE IF EXISTS Regiao;\n",
    "\n",
    "CREATE TABLE Regiao (\n",
    "    nome VARCHAR(20) NOT NULL,\n",
    "    nMunicipios INT NOT NULL,\n",
    "    PRIMARY KEY(nome)\n",
    ") AS SELECT\n",
    "    regiao,\n",
    "    SUM(n_municipios)\n",
    "    FROM UF\n",
    "    GROUP BY regiao;"
   ]
  },
  {
   "cell_type": "markdown",
   "metadata": {},
   "source": [
    "## Doenças"
   ]
  },
  {
   "cell_type": "code",
   "execution_count": 24,
   "metadata": {},
   "outputs": [],
   "source": [
    "DROP TABLE IF EXISTS Doenca;\n",
    "\n",
    "CREATE TABLE Doenca (\n",
    "    nome VARCHAR(50) NOT NULL,\n",
    "    contaminacao VARCHAR(50),\n",
    "    PRIMARY KEY(nome)\n",
    ") AS SELECT\n",
    "    Doencas,\n",
    "    Vetor\n",
    "    FROM CSVREAD('data/doenca.csv');"
   ]
  },
  {
   "cell_type": "markdown",
   "metadata": {},
   "source": [
    "## Relação Doença - Estado"
   ]
  },
  {
   "cell_type": "code",
   "execution_count": 26,
   "metadata": {
    "scrolled": true
   },
   "outputs": [],
   "source": [
    "DROP TABLE IF EXISTS DoencasPorEstado;\n",
    "\n",
    "CREATE TABLE DoencasPorEstado (\n",
    "    estado VARCHAR(20) NOT NULL,\n",
    "    nomeDoenca VARCHAR(50) NOT NULL,\n",
    "    nCasos INT NOT NULL,\n",
    "    FOREIGN KEY(nomeDoenca)\n",
    "        REFERENCES Doenca(nome)\n",
    "        ON UPDATE CASCADE\n",
    "        ON DELETE CASCADE,\n",
    "    FOREIGN KEY(estado)\n",
    "        REFERENCES UF(nome)\n",
    "        ON UPDATE CASCADE\n",
    "        ON DELETE NO ACTION\n",
    ") AS SELECT\n",
    "    UF,\n",
    "    Doenca,\n",
    "    nCasos\n",
    "    FROM CSVREAD('data/doencas_estado_saneamento.csv');"
   ]
  },
  {
   "cell_type": "markdown",
   "metadata": {},
   "source": [
    "## Relação Doença - Região"
   ]
  },
  {
   "cell_type": "code",
   "execution_count": 29,
   "metadata": {},
   "outputs": [],
   "source": [
    "DROP TABLE IF EXISTS DoencasPorRegiao;\n",
    "\n",
    "CREATE TABLE DoencasPorRegiao (\n",
    "    nomeDoenca VARCHAR(50) NOT NULL,\n",
    "    regiao VARCHAR(2) NULL,\n",
    "    nCasos INT NOT NULL,\n",
    "    FOREIGN KEY(nomeDoenca)\n",
    "        REFERENCES Doenca\n",
    "        ON UPDATE CASCADE\n",
    "        ON DELETE CASCADE,\n",
    "    FOREIGN KEY(regiao)\n",
    "        REFERENCES Regiao\n",
    "        ON UPDATE CASCADE\n",
    "        ON DELETE NO ACTION\n",
    ") AS SELECT\n",
    "    DE.nomeDoenca,\n",
    "    UF.regiao,\n",
    "    SUM(DE.nCasos)\n",
    "    FROM DoencasPorEstado DE, UF\n",
    "    WHERE DE.estado = UF.nome\n",
    "    GROUP BY regiao, nomeDoenca;"
   ]
  },
  {
   "cell_type": "markdown",
   "metadata": {},
   "source": [
    "## Tipo de Órgão responsável pela regulação dos serviços de saneamento básico por número de cidades em cada UF"
   ]
  },
  {
   "cell_type": "code",
   "execution_count": 42,
   "metadata": {},
   "outputs": [],
   "source": [
    "DROP TABLE IF EXISTS PorcOrgaoAgua;\n",
    "DROP TABLE IF EXISTS PorcOrgaoEsg;\n",
    "DROP TABLE IF EXISTS OrgaoSaneamentoAgua;\n",
    "DROP TABLE IF EXISTS OrgaoSaneamentoEsgoto;\n",
    "\n",
    "CREATE TABLE OrgaoSaneamentoAgua(\n",
    "    estado VARCHAR(20) NOT NULL,\n",
    "    OrgaoMunicipal INT,\n",
    "    AutarquiaMunicipal INT,\n",
    "    ConsorcioPub INT,\n",
    "    EntidadeEstadual INT,\n",
    "    outro_orgao_publico INT,\n",
    "    outros INT,\n",
    "    FOREIGN KEY(estado)\n",
    "        REFERENCES UF\n",
    "        ON UPDATE CASCADE\n",
    "        ON DELETE NO ACTION\n",
    ") AS SELECT\n",
    "    UF,\n",
    "    n_orgao_municipal,\n",
    "    n_autarquia_municipal,\n",
    "    n_consorcio_pub,\n",
    "    n_ent_reg_estadual,\n",
    "    n_outro_orgao_pub,\n",
    "    n_outros\n",
    "    FROM CSVREAD('data/orgao_agua.csv');\n",
    "    \n",
    "CREATE TABLE OrgaoSaneamentoEsgoto(\n",
    "    estado VARCHAR(20) NOT NULL,\n",
    "    OrgaoMunicipal INT,\n",
    "    AutarquiaMunicipal INT,\n",
    "    ConsorcioPub INT,\n",
    "    EntidadeEstadual INT,\n",
    "    outro_orgao_publico INT,\n",
    "    outros INT,\n",
    "    FOREIGN KEY(estado)\n",
    "        REFERENCES UF\n",
    "        ON UPDATE CASCADE\n",
    "        ON DELETE NO ACTION\n",
    ") AS SELECT\n",
    "    UF,\n",
    "    n_orgao_municipal,\n",
    "    n_autarquia_municipal,\n",
    "    n_consorcio_pub,\n",
    "    n_ent_reg_estadual,\n",
    "    n_outro_orgao_pub,\n",
    "    n_outros\n",
    "    FROM CSVREAD('data/orgao_esgoto.csv');"
   ]
  },
  {
   "cell_type": "markdown",
   "metadata": {},
   "source": [
    "## Queries:"
   ]
  },
  {
   "cell_type": "markdown",
   "metadata": {},
   "source": [
    "* Casos de doenças que tem transmissão afetadas por condições de saneamento no Brasil (2017)"
   ]
  },
  {
   "cell_type": "code",
   "execution_count": 34,
   "metadata": {},
   "outputs": [
    {
     "data": {
      "application/vnd.jupyter.widget-view+json": {
       "model_id": "ef89af10-db85-49db-a0ad-2798127c5240",
       "version_major": 2,
       "version_minor": 0
      },
      "method": "display_data"
     },
     "metadata": {},
     "output_type": "display_data"
    }
   ],
   "source": [
    "SELECT nomeDoenca, SUM(nCasos) AS Casos FROM DoencasPorRegiao GROUP BY nomeDoenca;"
   ]
  },
  {
   "cell_type": "markdown",
   "metadata": {},
   "source": [
    "* Porcentagem de cada tipo de órgão responsável pela regulação dos serviços de saneamento básico por UF"
   ]
  },
  {
   "cell_type": "code",
   "execution_count": 52,
   "metadata": {},
   "outputs": [
    {
     "data": {
      "application/vnd.jupyter.widget-view+json": {
       "model_id": "9a625fec-5b52-47a5-ba67-c5a116438973",
       "version_major": 2,
       "version_minor": 0
      },
      "method": "display_data"
     },
     "metadata": {},
     "output_type": "display_data"
    },
    {
     "data": {
      "application/vnd.jupyter.widget-view+json": {
       "model_id": "ab19f1d4-534a-437b-80e5-0c63b248d591",
       "version_major": 2,
       "version_minor": 0
      },
      "method": "display_data"
     },
     "metadata": {},
     "output_type": "display_data"
    }
   ],
   "source": [
    "DROP TABLE IF EXISTS PorcOrgaoAguaD;\n",
    "DROP TABLE IF EXISTS PorcOrgaoEsgD;\n",
    "DROP TABLE IF EXISTS PorcOrgaoAgua;\n",
    "DROP TABLE IF EXISTS PorcOrgaoEsg;\n",
    "\n",
    "CREATE VIEW PorcOrgaoAgua AS\n",
    "SELECT OSA.estado, 100 * OSA.OrgaoMunicipal / UF.n_municipios OM, 100 * OSA.AutarquiaMunicipal / UF.n_municipios AM, \n",
    "       100 * OSA.ConsorcioPub / UF.n_municipios CP, 100 * OSA.EntidadeEstadual / UF.n_municipios EE, 100 * OSA.outro_orgao_publico / UF.n_municipios OOP, 100 * OSA.outros / UF.n_municipios OTHERS\n",
    "FROM OrgaoSaneamentoAgua OSA, UF\n",
    "WHERE OSA.estado = UF.nome;\n",
    "\n",
    "CREATE VIEW PorcOrgaoEsg AS\n",
    "SELECT OSE.estado, 100 * OSE.OrgaoMunicipal / UF.n_municipios OM, 100 * OSE.AutarquiaMunicipal / UF.n_municipios AM, \n",
    "       100 * OSE.ConsorcioPub / UF.n_municipios CP, 100 * OSE.EntidadeEstadual / UF.n_municipios EE, 100 * OSE.outro_orgao_publico / UF.n_municipios OOP, 100 * OSE.outros / UF.n_municipios OTHERS\n",
    "FROM OrgaoSaneamentoEsgoto OSE, UF\n",
    "WHERE OSE.estado = UF.nome;\n",
    "\n",
    "SELECT * FROM PorcOrgaoAgua;\n",
    "SELECT * FROM PorcOrgaoEsg;"
   ]
  },
  {
   "cell_type": "markdown",
   "metadata": {},
   "source": [
    "* Porcentagem de cada tipo de órgão responsável pela regulação dos serviços de sanemento básico por UF, com número de casos de doenças"
   ]
  },
  {
   "cell_type": "code",
   "execution_count": 49,
   "metadata": {},
   "outputs": [
    {
     "data": {
      "application/vnd.jupyter.widget-view+json": {
       "model_id": "c1cf4b56-d56a-43c4-8c02-d29796025408",
       "version_major": 2,
       "version_minor": 0
      },
      "method": "display_data"
     },
     "metadata": {},
     "output_type": "display_data"
    },
    {
     "data": {
      "application/vnd.jupyter.widget-view+json": {
       "model_id": "675c2503-9b31-4435-8a92-ab0f81760818",
       "version_major": 2,
       "version_minor": 0
      },
      "method": "display_data"
     },
     "metadata": {},
     "output_type": "display_data"
    }
   ],
   "source": [
    "DROP TABLE IF EXISTS PorcOrgaoAguaD;\n",
    "DROP TABLE IF EXISTS PorcOrgaoEsgD;\n",
    "\n",
    "CREATE VIEW PorcOrgaoAguaD AS\n",
    "SELECT POA.estado, DpE.nomeDoenca, DpE.nCasos, OM, AM, CP, EE, OOP, OTHERS\n",
    "FROM PorcOrgaoAgua POA, DoencasPorEstado DpE\n",
    "WHERE POA.estado = DpE.estado\n",
    "ORDER BY nCasos;\n",
    "\n",
    "CREATE VIEW PorcOrgaoEsgD AS\n",
    "SELECT POE.estado, DpE.nomeDoenca, DpE.nCasos, OM, AM, CP, EE, OOP, OTHERS\n",
    "FROM PorcOrgaoEsg POE, DoencasPorEstado DpE\n",
    "WHERE POE.estado = DpE.estado;\n",
    "\n",
    "SELECT * FROM PorcOrgaoAguaD;\n",
    "\n",
    "SELECT * FROM PorcOrgaoEsgD;"
   ]
  },
  {
   "cell_type": "code",
   "execution_count": null,
   "metadata": {},
   "outputs": [],
   "source": []
  }
 ],
 "metadata": {
  "kernelspec": {
   "display_name": "SQL",
   "language": "SQL",
   "name": "sql"
  },
  "language_info": {
   "codemirror_mode": "sql",
   "file_extension": ".sql",
   "mimetype": "",
   "name": "SQL",
   "nbconverter_exporter": "",
   "version": ""
  },
  "toc": {
   "base_numbering": 1,
   "nav_menu": {},
   "number_sections": false,
   "sideBar": false,
   "skip_h1_title": false,
   "title_cell": "Table of Contents",
   "title_sidebar": "Contents",
   "toc_cell": false,
   "toc_position": {},
   "toc_section_display": false,
   "toc_window_display": false
  }
 },
 "nbformat": 4,
 "nbformat_minor": 2
}
