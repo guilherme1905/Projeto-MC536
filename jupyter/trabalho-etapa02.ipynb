{
 "cells": [
  {
   "cell_type": "markdown",
   "metadata": {},
   "source": [
    "# 1. Modelo Conceitual\n",
    "![Modelo Conceitual](https://github.com/guilherme1905/Projeto-MC536/raw/master/documentos/modelo_conceitual_v3.png)"
   ]
  },
  {
   "cell_type": "markdown",
   "metadata": {},
   "source": [
    "# 2.Modelo Lógico\n",
    "![Modelo Lógico](https://github.com/guilherme1905/Projeto-MC536/raw/master/documentos/modelo_logico_v1.png)"
   ]
  },
  {
   "cell_type": "code",
   "execution_count": 1,
   "metadata": {},
   "outputs": [],
   "source": [
    "%defaultDatasource jdbc:h2:mem:db"
   ]
  },
  {
   "cell_type": "markdown",
   "metadata": {},
   "source": [
    "## Estados"
   ]
  },
  {
   "cell_type": "code",
   "execution_count": 2,
   "metadata": {},
   "outputs": [],
   "source": [
    "DROP TABLE IF EXISTS UF;\n",
    "\n",
    "CREATE TABLE UF (\n",
    "    nome VARCHAR (20) NOT NULL,\n",
    "    regiao VARCHAR(5) NOT NULL,\n",
    "    nota_saneamento FLOAT NOT NULL,\n",
    "    n_municipios INT NOT NULL,\n",
    "    PRIMARY KEY (nome),\n",
    ");\n",
    "\n",
    "INSERT INTO UF VALUES ('Rondonia', 'N', 0.77, 52);\n",
    "INSERT INTO UF VALUES ('Acre', 'N', 1.36, 22);\n",
    "INSERT INTO UF VALUES ('Amazonas', 'N', 0.97, 62);\n",
    "INSERT INTO UF VALUES ('Roraima', 'N', 0.74, 15);\n",
    "INSERT INTO UF VALUES ('Para', 'N', 0.49, 144);\n",
    "INSERT INTO UF VALUES ('Amapa', 'N', 1.25, 16);\n",
    "INSERT INTO UF VALUES ('Tocantins', 'N', 0.36, 139);\n",
    "INSERT INTO UF VALUES ('Minas Gerais', 'SE', 0.88, 853);\n",
    "INSERT INTO UF VALUES ('Espirito Santo', 'SE', 0.77, 78);\n",
    "INSERT INTO UF VALUES ('Rio de Janeiro', 'SE', 1.2, 92);\n",
    "INSERT INTO UF VALUES ('Sao Paulo', 'SE', 0.65, 645);\n",
    "INSERT INTO UF VALUES ('Parana', 'S', 1.03, 399);\n",
    "INSERT INTO UF VALUES ('Santa Catarina', 'S', 4.27, 295);\n",
    "INSERT INTO UF VALUES ('Rio Grande do Sul', 'S', 1.81, 497);\n",
    "INSERT INTO UF VALUES ('Mato Grosso do Sul', 'CO', 1.39, 79);\n",
    "INSERT INTO UF VALUES ('Mato Grosso', 'CO', 1.63, 141);\n",
    "INSERT INTO UF VALUES ('Goias', 'CO', 0.93, 246);\n",
    "INSERT INTO UF VALUES ('Distrito Federal', 'CO', 5.13, 1);\n",
    "INSERT INTO UF VALUES ('Maranhao', 'NE', 0.51, 217);\n",
    "INSERT INTO UF VALUES ('Piaui', 'NE', 0.98, 224);\n",
    "INSERT INTO UF VALUES ('Ceara', 'NE', 0.6, 184);\n",
    "INSERT INTO UF VALUES ('Rio Grande do Norte', 'NE', 0.6, 167);\n",
    "INSERT INTO UF VALUES ('Paraiba', 'NE', 0.58, 223);\n",
    "INSERT INTO UF VALUES ('Pernambuco', 'NE', 0.59, 185);\n",
    "INSERT INTO UF VALUES ('Alagoas', 'NE', 0.59, 102);\n",
    "INSERT INTO UF VALUES ('Sergipe', 'NE', 0.4, 75);\n",
    "INSERT INTO UF VALUES ('Bahia', 'NE', 0.43, 417);"
   ]
  },
  {
   "cell_type": "markdown",
   "metadata": {},
   "source": [
    "## Regiões do Brasil"
   ]
  },
  {
   "cell_type": "code",
   "execution_count": 3,
   "metadata": {},
   "outputs": [],
   "source": [
    "DROP TABLE IF EXISTS Regiao;\n",
    "\n",
    "CREATE TABLE Regiao (\n",
    "    nome VARCHAR(20) NOT NULL,\n",
    "    nMunicipios INT NOT NULL,\n",
    "    PRIMARY KEY(nome)\n",
    ") AS SELECT\n",
    "    regiao,\n",
    "    SUM(n_municipios)\n",
    "    FROM UF\n",
    "    GROUP BY regiao;"
   ]
  },
  {
   "cell_type": "markdown",
   "metadata": {},
   "source": [
    "## Doenças"
   ]
  },
  {
   "cell_type": "code",
   "execution_count": 18,
   "metadata": {},
   "outputs": [],
   "source": [
    "DROP TABLE IF EXISTS Doenca;\n",
    "\n",
    "CREATE TABLE Doenca (\n",
    "    nome VARCHAR(50) NOT NULL,\n",
    "    tratamento VARCHAR(50),\n",
    "    PRIMARY KEY(nome)\n",
    ") AS SELECT\n",
    "    Nome,\n",
    "    Tratamento\n",
    "    FROM CSVREAD('data/doencas.csv');"
   ]
  },
  {
   "cell_type": "markdown",
   "metadata": {},
   "source": [
    "## Relação Doença - Estado"
   ]
  },
  {
   "cell_type": "code",
   "execution_count": 20,
   "metadata": {
    "scrolled": true
   },
   "outputs": [],
   "source": [
    "DROP TABLE IF EXISTS DoencasPorEstado;\n",
    "\n",
    "CREATE TABLE DoencasPorEstado (\n",
    "    estado VARCHAR(20) NOT NULL,\n",
    "    nomeDoenca VARCHAR(50) NOT NULL,\n",
    "    nCasos INT NOT NULL,\n",
    "    FOREIGN KEY(nomeDoenca)\n",
    "        REFERENCES Doenca(nome)\n",
    "        ON UPDATE CASCADE\n",
    "        ON DELETE CASCADE,\n",
    "    FOREIGN KEY(estado)\n",
    "        REFERENCES UF(nome)\n",
    "        ON UPDATE CASCADE\n",
    "        ON DELETE NO ACTION\n",
    ") AS SELECT\n",
    "    UF,\n",
    "    Doenca,\n",
    "    Casos\n",
    "    FROM CSVREAD('data/doencas_por_estado.csv');"
   ]
  },
  {
   "cell_type": "markdown",
   "metadata": {},
   "source": [
    "## Relação Doença - Região"
   ]
  },
  {
   "cell_type": "code",
   "execution_count": 21,
   "metadata": {},
   "outputs": [],
   "source": [
    "DROP TABLE IF EXISTS DoencasPorRegiao;\n",
    "\n",
    "CREATE TABLE DoencasPorRegiao (\n",
    "    nomeDoenca VARCHAR(50) NOT NULL,\n",
    "    regiao VARCHAR(2) NULL,\n",
    "    nCasos INT NOT NULL,\n",
    "    FOREIGN KEY(nomeDoenca)\n",
    "        REFERENCES Doenca\n",
    "        ON UPDATE CASCADE\n",
    "        ON DELETE CASCADE,\n",
    "    FOREIGN KEY(regiao)\n",
    "        REFERENCES Regiao\n",
    "        ON UPDATE CASCADE\n",
    "        ON DELETE NO ACTION\n",
    ") AS SELECT\n",
    "    DE.nomeDoenca,\n",
    "    UF.regiao,\n",
    "    SUM(DE.nCasos)\n",
    "    FROM DoencasPorEstado DE, UF\n",
    "    WHERE DE.estado = UF.nome\n",
    "    GROUP BY regiao, nomeDoenca;"
   ]
  },
  {
   "cell_type": "markdown",
   "metadata": {},
   "source": [
    "## Tipo de Órgão responsável pela regulação dos serviços de saneamento básico por número de cidades em cada UF"
   ]
  },
  {
   "cell_type": "code",
   "execution_count": 22,
   "metadata": {},
   "outputs": [],
   "source": [
    "DROP TABLE IF EXISTS PorcOrgaoAgua;\n",
    "DROP TABLE IF EXISTS PorcOrgaoEsg;\n",
    "DROP TABLE IF EXISTS OrgaoSaneamentoAgua;\n",
    "DROP TABLE IF EXISTS OrgaoSaneamentoEsgoto;\n",
    "\n",
    "CREATE TABLE OrgaoSaneamentoAgua(\n",
    "    estado VARCHAR(20) NOT NULL,\n",
    "    OrgaoMunicipal INT,\n",
    "    AutarquiaMunicipal INT,\n",
    "    ConsorcioPub INT,\n",
    "    EntidadeEstadual INT,\n",
    "    outro_orgao_publico INT,\n",
    "    outros INT,\n",
    "    FOREIGN KEY(estado)\n",
    "        REFERENCES UF\n",
    "        ON UPDATE CASCADE\n",
    "        ON DELETE NO ACTION\n",
    ") AS SELECT\n",
    "    UF,\n",
    "    n_orgao_municipal,\n",
    "    n_autarquia_municipal,\n",
    "    n_consorcio_pub,\n",
    "    n_ent_reg_estadual,\n",
    "    n_outro_orgao_pub,\n",
    "    n_outros\n",
    "    FROM CSVREAD('data/orgao_agua.csv');\n",
    "    \n",
    "CREATE TABLE OrgaoSaneamentoEsgoto(\n",
    "    estado VARCHAR(20) NOT NULL,\n",
    "    OrgaoMunicipal INT,\n",
    "    AutarquiaMunicipal INT,\n",
    "    ConsorcioPub INT,\n",
    "    EntidadeEstadual INT,\n",
    "    outro_orgao_publico INT,\n",
    "    outros INT,\n",
    "    FOREIGN KEY(estado)\n",
    "        REFERENCES UF\n",
    "        ON UPDATE CASCADE\n",
    "        ON DELETE NO ACTION\n",
    ") AS SELECT\n",
    "    UF,\n",
    "    n_orgao_municipal,\n",
    "    n_autarquia_municipal,\n",
    "    n_consorcio_pub,\n",
    "    n_ent_reg_estadual,\n",
    "    n_outro_orgao_pub,\n",
    "    n_outros\n",
    "    FROM CSVREAD('data/orgao_esgoto.csv');"
   ]
  },
  {
   "cell_type": "markdown",
   "metadata": {},
   "source": [
    "## Queries:"
   ]
  },
  {
   "cell_type": "markdown",
   "metadata": {},
   "source": [
    "* Casos de doenças que tem transmissão afetadas por condições de saneamento no Brasil (2017)"
   ]
  },
  {
   "cell_type": "code",
   "execution_count": 8,
   "metadata": {},
   "outputs": [
    {
     "ename": "org.h2.jdbc.JdbcSQLException",
     "evalue": " Table \"DOENCASPORREGIAO\" not found; SQL statement",
     "output_type": "error",
     "traceback": [
      "\u001b[1;31morg.h2.jdbc.JdbcSQLException: Table \"DOENCASPORREGIAO\" not found; SQL statement:\u001b[0;0m",
      "\u001b[1;31mSELECT nomeDoenca, SUM(nCasos) AS Casos FROM DoencasPorRegiao GROUP BY nomeDoenca [42102-193]\u001b[0;0m"
     ]
    }
   ],
   "source": [
    "SELECT nomeDoenca, SUM(nCasos) AS Casos FROM DoencasPorRegiao GROUP BY nomeDoenca;"
   ]
  },
  {
   "cell_type": "markdown",
   "metadata": {},
   "source": [
    "* Porcentagem de cada tipo de órgão responsável pela regulação dos serviços de saneamento básico por UF"
   ]
  },
  {
   "cell_type": "code",
   "execution_count": 9,
   "metadata": {},
   "outputs": [
    {
     "data": {
      "application/vnd.jupyter.widget-view+json": {
       "model_id": "97f16aeb-0062-4b2f-af89-01d019fd5703",
       "version_major": 2,
       "version_minor": 0
      },
      "method": "display_data"
     },
     "metadata": {},
     "output_type": "display_data"
    },
    {
     "data": {
      "application/vnd.jupyter.widget-view+json": {
       "model_id": "7c0b6251-abe6-46d8-8576-a3c548ba9640",
       "version_major": 2,
       "version_minor": 0
      },
      "method": "display_data"
     },
     "metadata": {},
     "output_type": "display_data"
    }
   ],
   "source": [
    "DROP TABLE IF EXISTS PorcOrgaoAguaD;\n",
    "DROP TABLE IF EXISTS PorcOrgaoEsgD;\n",
    "DROP TABLE IF EXISTS PorcOrgaoAgua;\n",
    "DROP TABLE IF EXISTS PorcOrgaoEsg;\n",
    "\n",
    "CREATE VIEW PorcOrgaoAgua AS\n",
    "SELECT OSA.estado, 100 * OSA.OrgaoMunicipal / UF.n_municipios OM, 100 * OSA.AutarquiaMunicipal / UF.n_municipios AM, \n",
    "       100 * OSA.ConsorcioPub / UF.n_municipios CP, 100 * OSA.EntidadeEstadual / UF.n_municipios EE, 100 * OSA.outro_orgao_publico / UF.n_municipios OOP, 100 * OSA.outros / UF.n_municipios OTHERS\n",
    "FROM OrgaoSaneamentoAgua OSA, UF\n",
    "WHERE OSA.estado = UF.nome;\n",
    "\n",
    "CREATE VIEW PorcOrgaoEsg AS\n",
    "SELECT OSE.estado, 100 * OSE.OrgaoMunicipal / UF.n_municipios OM, 100 * OSE.AutarquiaMunicipal / UF.n_municipios AM, \n",
    "       100 * OSE.ConsorcioPub / UF.n_municipios CP, 100 * OSE.EntidadeEstadual / UF.n_municipios EE, 100 * OSE.outro_orgao_publico / UF.n_municipios OOP, 100 * OSE.outros / UF.n_municipios OTHERS\n",
    "FROM OrgaoSaneamentoEsgoto OSE, UF\n",
    "WHERE OSE.estado = UF.nome;\n",
    "\n",
    "SELECT * FROM PorcOrgaoAgua;\n",
    "SELECT * FROM PorcOrgaoEsg;"
   ]
  },
  {
   "cell_type": "markdown",
   "metadata": {},
   "source": [
    "* Porcentagem de cada tipo de órgão responsável pela regulação dos serviços de sanemento básico por UF, com número de casos de doenças"
   ]
  },
  {
   "cell_type": "code",
   "execution_count": 10,
   "metadata": {},
   "outputs": [
    {
     "ename": "org.h2.jdbc.JdbcSQLException",
     "evalue": " Table \"DOENCASPORESTADO\" not found; SQL statement",
     "output_type": "error",
     "traceback": [
      "\u001b[1;31morg.h2.jdbc.JdbcSQLException: Table \"DOENCASPORESTADO\" not found; SQL statement:\u001b[0;0m",
      "\u001b[1;31mCREATE VIEW PorcOrgaoAguaD AS\u001b[0;0m",
      "\u001b[1;31mSELECT POA.estado, DpE.nomeDoenca, DpE.nCasos, OM, AM, CP, EE, OOP, OTHERS\u001b[0;0m",
      "\u001b[1;31mFROM PorcOrgaoAgua POA, DoencasPorEstado DpE\u001b[0;0m",
      "\u001b[1;31mWHERE POA.estado = DpE.estado\u001b[0;0m",
      "\u001b[1;31mORDER BY nCasos [42102-193]\u001b[0;0m"
     ]
    }
   ],
   "source": [
    "DROP TABLE IF EXISTS PorcOrgaoAguaD;\n",
    "DROP TABLE IF EXISTS PorcOrgaoEsgD;\n",
    "\n",
    "CREATE VIEW PorcOrgaoAguaD AS\n",
    "SELECT POA.estado, DpE.nomeDoenca, DpE.nCasos, OM, AM, CP, EE, OOP, OTHERS\n",
    "FROM PorcOrgaoAgua POA, DoencasPorEstado DpE\n",
    "WHERE POA.estado = DpE.estado\n",
    "ORDER BY nCasos;\n",
    "\n",
    "CREATE VIEW PorcOrgaoEsgD AS\n",
    "SELECT POE.estado, DpE.nomeDoenca, DpE.nCasos, OM, AM, CP, EE, OOP, OTHERS\n",
    "FROM PorcOrgaoEsg POE, DoencasPorEstado DpE\n",
    "WHERE POE.estado = DpE.estado;\n",
    "\n",
    "SELECT * FROM PorcOrgaoAguaD;\n",
    "\n",
    "SELECT * FROM PorcOrgaoEsgD;"
   ]
  },
  {
   "cell_type": "code",
   "execution_count": null,
   "metadata": {},
   "outputs": [],
   "source": []
  }
 ],
 "metadata": {
  "kernelspec": {
   "display_name": "SQL",
   "language": "SQL",
   "name": "sql"
  },
  "language_info": {
   "codemirror_mode": "sql",
   "file_extension": ".sql",
   "mimetype": "",
   "name": "SQL",
   "nbconverter_exporter": "",
   "version": ""
  },
  "toc": {
   "base_numbering": 1,
   "nav_menu": {},
   "number_sections": false,
   "sideBar": false,
   "skip_h1_title": false,
   "title_cell": "Table of Contents",
   "title_sidebar": "Contents",
   "toc_cell": false,
   "toc_position": {},
   "toc_section_display": false,
   "toc_window_display": false
  }
 },
 "nbformat": 4,
 "nbformat_minor": 2
}
