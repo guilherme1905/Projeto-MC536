{
 "cells": [
  {
   "cell_type": "markdown",
   "metadata": {},
   "source": [
    "# 1. Modelo Conceitual\n",
    "![Modelo Conceitual](https://github.com/guilherme1905/Projeto-MC536/raw/master/documentos/modelo_conceitual_v3.png)"
   ]
  },
  {
   "cell_type": "markdown",
   "metadata": {},
   "source": [
    "# 2.Modelo Lógico\n",
    "![Modelo Lógico](https://github.com/guilherme1905/Projeto-MC536/raw/master/documentos/modelo_logico_v1.png)"
   ]
  },
  {
   "cell_type": "code",
   "execution_count": 2,
   "metadata": {},
   "outputs": [],
   "source": [
    "%defaultDatasource jdbc:h2:mem:db"
   ]
  },
  {
   "cell_type": "markdown",
   "metadata": {},
   "source": [
    "## Estados"
   ]
  },
  {
   "cell_type": "code",
   "execution_count": 5,
   "metadata": {},
   "outputs": [],
   "source": [
    "DROP TABLE IF EXISTS UF;\n",
    "\n",
    "CREATE TABLE UF (\n",
    "    nome VARCHAR (20) NOT NULL,\n",
    "    regiao VARCHAR(5) NOT NULL,\n",
    "    nota_saneamento FLOAT NOT NULL,\n",
    "    n_municipios INT NOT NULL,\n",
    "    PRIMARY KEY (nome),\n",
    ");\n",
    "\n",
    "INSERT INTO UF VALUES ('Rondonia', 'N', 0.77, 52);\n",
    "INSERT INTO UF VALUES ('Acre', 'N', 1.36, 22);\n",
    "INSERT INTO UF VALUES ('Amazonas', 'N', 0.97, 62);\n",
    "INSERT INTO UF VALUES ('Roraima', 'N', 0.74, 15);\n",
    "INSERT INTO UF VALUES ('Para', 'N', 0.49, 144);\n",
    "INSERT INTO UF VALUES ('Amapa', 'N', 1.25, 16);\n",
    "INSERT INTO UF VALUES ('Tocantins', 'N', 0.36, 139);\n",
    "INSERT INTO UF VALUES ('Minas Gerais', 'SE', 0.88, 853);\n",
    "INSERT INTO UF VALUES ('Espirito Santo', 'SE', 0.77, 78);\n",
    "INSERT INTO UF VALUES ('Rio de Janeiro', 'SE', 1.2, 92);\n",
    "INSERT INTO UF VALUES ('Sao Paulo', 'SE', 0.65, 645);\n",
    "INSERT INTO UF VALUES ('Parana', 'S', 1.03, 399);\n",
    "INSERT INTO UF VALUES ('Santa Catarina', 'S', 4.27, 295);\n",
    "INSERT INTO UF VALUES ('Rio Grande do Sul', 'S', 1.81, 497);\n",
    "INSERT INTO UF VALUES ('Mato Grosso do Sul', 'CO', 1.39, 79);\n",
    "INSERT INTO UF VALUES ('Mato Grosso', 'CO', 1.63, 141);\n",
    "INSERT INTO UF VALUES ('Goias', 'CO', 0.93, 246);\n",
    "INSERT INTO UF VALUES ('Distrito Federal', 'CO', 5.13, 1);\n",
    "INSERT INTO UF VALUES ('Maranhao', 'NE', 0.51, 217);\n",
    "INSERT INTO UF VALUES ('Piaui', 'NE', 0.98, 224);\n",
    "INSERT INTO UF VALUES ('Ceara', 'NE', 0.6, 184);\n",
    "INSERT INTO UF VALUES ('Rio Grande do Norte', 'NE', 0.6, 167);\n",
    "INSERT INTO UF VALUES ('Paraiba', 'NE', 0.58, 223);\n",
    "INSERT INTO UF VALUES ('Pernambuco', 'NE', 0.59, 185);\n",
    "INSERT INTO UF VALUES ('Alagoas', 'NE', 0.59, 102);\n",
    "INSERT INTO UF VALUES ('Sergipe', 'NE', 0.4, 75);\n",
    "INSERT INTO UF VALUES ('Bahia', 'NE', 0.43, 417);"
   ]
  },
  {
   "cell_type": "markdown",
   "metadata": {},
   "source": [
    "## Regiões do Brasil"
   ]
  },
  {
   "cell_type": "code",
   "execution_count": 6,
   "metadata": {},
   "outputs": [],
   "source": [
    "DROP TABLE IF EXISTS Regiao;\n",
    "\n",
    "CREATE TABLE Regiao (\n",
    "    nome VARCHAR(20) NOT NULL,\n",
    "    nMunicipios INT NOT NULL,\n",
    "    PRIMARY KEY(nome)\n",
    ") AS SELECT\n",
    "    regiao,\n",
    "    SUM(n_municipios)\n",
    "    FROM UF\n",
    "    GROUP BY regiao;"
   ]
  },
  {
   "cell_type": "markdown",
   "metadata": {},
   "source": [
    "## Doenças"
   ]
  },
  {
   "cell_type": "code",
   "execution_count": 3,
   "metadata": {},
   "outputs": [],
   "source": [
    "DROP TABLE IF EXISTS Doenca;\n",
    "\n",
    "CREATE TABLE Doenca (\n",
    "    nome VARCHAR(50) NOT NULL,\n",
    "    tratamento VARCHAR(50),\n",
    "    PRIMARY KEY(nome)\n",
    ") AS SELECT\n",
    "    Nome,\n",
    "    Tratamento\n",
    "    FROM CSVREAD('data/doencas.csv');"
   ]
  },
  {
   "cell_type": "markdown",
   "metadata": {},
   "source": [
    "## Relação Doença - Estado"
   ]
  },
  {
   "cell_type": "code",
   "execution_count": 8,
   "metadata": {
    "scrolled": true
   },
   "outputs": [],
   "source": [
    "DROP TABLE IF EXISTS DoencasPorEstado;\n",
    "\n",
    "CREATE TABLE DoencasPorEstado (\n",
    "    estado VARCHAR(20) NOT NULL,\n",
    "    nomeDoenca VARCHAR(50) NOT NULL,\n",
    "    nCasos INT NOT NULL,\n",
    "    FOREIGN KEY(nomeDoenca)\n",
    "        REFERENCES Doenca(nome)\n",
    "        ON UPDATE CASCADE\n",
    "        ON DELETE CASCADE,\n",
    "    FOREIGN KEY(estado)\n",
    "        REFERENCES UF(nome)\n",
    "        ON UPDATE CASCADE\n",
    "        ON DELETE NO ACTION\n",
    ") AS SELECT\n",
    "    UF,\n",
    "    Doenca,\n",
    "    Casos\n",
    "    FROM CSVREAD('data/doencas_por_estado.csv');"
   ]
  },
  {
   "cell_type": "markdown",
   "metadata": {},
   "source": [
    "## Relação Doença - Região"
   ]
  },
  {
   "cell_type": "code",
   "execution_count": 9,
   "metadata": {},
   "outputs": [],
   "source": [
    "DROP TABLE IF EXISTS DoencasPorRegiao;\n",
    "\n",
    "CREATE TABLE DoencasPorRegiao (\n",
    "    nomeDoenca VARCHAR(50) NOT NULL,\n",
    "    regiao VARCHAR(2) NULL,\n",
    "    nCasos INT NOT NULL,\n",
    "    FOREIGN KEY(nomeDoenca)\n",
    "        REFERENCES Doenca\n",
    "        ON UPDATE CASCADE\n",
    "        ON DELETE CASCADE,\n",
    "    FOREIGN KEY(regiao)\n",
    "        REFERENCES Regiao\n",
    "        ON UPDATE CASCADE\n",
    "        ON DELETE NO ACTION\n",
    ") AS SELECT\n",
    "    DE.nomeDoenca,\n",
    "    UF.regiao,\n",
    "    SUM(DE.nCasos)\n",
    "    FROM DoencasPorEstado DE, UF\n",
    "    WHERE DE.estado = UF.nome\n",
    "    GROUP BY regiao, nomeDoenca;"
   ]
  },
  {
   "cell_type": "markdown",
   "metadata": {},
   "source": [
    "## Tipo de Órgão responsável pela regulação dos serviços de saneamento básico por número de cidades em cada UF"
   ]
  },
  {
   "cell_type": "code",
   "execution_count": 7,
   "metadata": {},
   "outputs": [],
   "source": [
    "DROP TABLE IF EXISTS PorcOrgaoAgua;\n",
    "DROP TABLE IF EXISTS PorcOrgaoEsg;\n",
    "DROP TABLE IF EXISTS OrgaoSaneamentoAgua;\n",
    "DROP TABLE IF EXISTS OrgaoSaneamentoEsgoto;\n",
    "\n",
    "CREATE TABLE OrgaoSaneamentoAgua(\n",
    "    estado VARCHAR(20) NOT NULL,\n",
    "    OrgaoMunicipal INT,\n",
    "    AutarquiaMunicipal INT,\n",
    "    ConsorcioPub INT,\n",
    "    EntidadeEstadual INT,\n",
    "    outro_orgao_publico INT,\n",
    "    outros INT,\n",
    "    FOREIGN KEY(estado)\n",
    "        REFERENCES UF\n",
    "        ON UPDATE CASCADE\n",
    "        ON DELETE NO ACTION\n",
    ") AS SELECT\n",
    "    UF,\n",
    "    n_orgao_municipal,\n",
    "    n_autarquia_municipal,\n",
    "    n_consorcio_pub,\n",
    "    n_ent_reg_estadual,\n",
    "    n_outro_orgao_pub,\n",
    "    n_outros\n",
    "    FROM CSVREAD('data/orgao_agua.csv');\n",
    "    \n",
    "CREATE TABLE OrgaoSaneamentoEsgoto(\n",
    "    estado VARCHAR(20) NOT NULL,\n",
    "    OrgaoMunicipal INT,\n",
    "    AutarquiaMunicipal INT,\n",
    "    ConsorcioPub INT,\n",
    "    EntidadeEstadual INT,\n",
    "    outro_orgao_publico INT,\n",
    "    outros INT,\n",
    "    FOREIGN KEY(estado)\n",
    "        REFERENCES UF\n",
    "        ON UPDATE CASCADE\n",
    "        ON DELETE NO ACTION\n",
    ") AS SELECT\n",
    "    UF,\n",
    "    n_orgao_municipal,\n",
    "    n_autarquia_municipal,\n",
    "    n_consorcio_pub,\n",
    "    n_ent_reg_estadual,\n",
    "    n_outro_orgao_pub,\n",
    "    n_outros\n",
    "    FROM CSVREAD('data/orgao_esgoto.csv');"
   ]
  },
  {
   "cell_type": "markdown",
   "metadata": {},
   "source": [
    "## Queries:"
   ]
  },
  {
   "cell_type": "markdown",
   "metadata": {},
   "source": [
    "* Casos de doenças que tem transmissão afetadas por condições de saneamento no Brasil (2012)"
   ]
  },
  {
   "cell_type": "code",
   "execution_count": 10,
   "metadata": {},
   "outputs": [
    {
     "data": {
      "application/vnd.jupyter.widget-view+json": {
       "model_id": "ee7b7106-6e51-463b-bf61-0a57c998be1e",
       "version_major": 2,
       "version_minor": 0
      },
      "method": "display_data"
     },
     "metadata": {},
     "output_type": "display_data"
    }
   ],
   "source": [
    "SELECT nomeDoenca, SUM(nCasos) AS Casos FROM DoencasPorRegiao GROUP BY nomeDoenca;"
   ]
  },
  {
   "cell_type": "markdown",
   "metadata": {},
   "source": [
    "* Doenças com maior incidência em cada estado"
   ]
  },
  {
   "cell_type": "code",
   "execution_count": 11,
   "metadata": {},
   "outputs": [
    {
     "data": {
      "application/vnd.jupyter.widget-view+json": {
       "model_id": "36619bef-72c2-4a12-9dbb-63094472fa87",
       "version_major": 2,
       "version_minor": 0
      },
      "method": "display_data"
     },
     "metadata": {},
     "output_type": "display_data"
    }
   ],
   "source": [
    "SELECT nome, nomeDoenca, MAX(ncasos) AS CASOS\n",
    "FROM UF, DoencasPorEstado\n",
    "WHERE UF.nome = estado\n",
    "GROUP BY UF.nome, nomeDoenca\n",
    "ORDER BY Casos DESC"
   ]
  },
  {
   "cell_type": "code",
   "execution_count": 14,
   "metadata": {},
   "outputs": [
    {
     "data": {
      "application/vnd.jupyter.widget-view+json": {
       "model_id": "56696da8-82ae-4699-ac28-b418c642dba9",
       "version_major": 2,
       "version_minor": 0
      },
      "method": "display_data"
     },
     "metadata": {},
     "output_type": "display_data"
    }
   ],
   "source": [
    "SELECT regiao, nomeDoenca, nCasos  AS Casos FROM DoencasPorRegiao"
   ]
  },
  {
   "cell_type": "markdown",
   "metadata": {},
   "source": [
    "* Casos de cada doença por região, e sua média em nota de condição sanitária"
   ]
  },
  {
   "cell_type": "code",
   "execution_count": 23,
   "metadata": {},
   "outputs": [
    {
     "data": {
      "application/vnd.jupyter.widget-view+json": {
       "model_id": "f17fa328-8b86-4e49-8f2b-1b2c78781f35",
       "version_major": 2,
       "version_minor": 0
      },
      "method": "display_data"
     },
     "metadata": {},
     "output_type": "display_data"
    }
   ],
   "source": [
    "DROP TABLE IF EXISTS MediaSaneamentoRegiao;\n",
    "\n",
    "CREATE VIEW MediaSaneamentoRegiao AS\n",
    "SELECT SUM(nota_saneamento) / COUNT(*) AS nota, regiao\n",
    "FROM UF\n",
    "GROUP BY regiao;\n",
    "\n",
    "SELECT nomeDoenca, UF.regiao, SUM(nCasos) AS Casos, MSR.nota\n",
    "FROM DoencasPorEstado DpE, UF, MediaSaneamentoRegiao MSR\n",
    "WHERE UF.nome = DpE.estado AND MSR.regiao = UF.regiao\n",
    "GROUP BY nomeDoenca, UF.regiao\n",
    "ORDER BY nota;"
   ]
  },
  {
   "cell_type": "markdown",
   "metadata": {},
   "source": [
    "* Porcentagem de cada tipo de órgão responsável pela regulação dos serviços de saneamento básico por UF"
   ]
  },
  {
   "cell_type": "code",
   "execution_count": 26,
   "metadata": {},
   "outputs": [
    {
     "data": {
      "application/vnd.jupyter.widget-view+json": {
       "model_id": "936b1666-28e7-4673-a215-e25e2b47b753",
       "version_major": 2,
       "version_minor": 0
      },
      "method": "display_data"
     },
     "metadata": {},
     "output_type": "display_data"
    },
    {
     "data": {
      "application/vnd.jupyter.widget-view+json": {
       "model_id": "97dce1ed-28d4-4cfd-9a16-d80585a44055",
       "version_major": 2,
       "version_minor": 0
      },
      "method": "display_data"
     },
     "metadata": {},
     "output_type": "display_data"
    }
   ],
   "source": [
    "DROP TABLE IF EXISTS PorcOrgaoAguaD;\n",
    "DROP TABLE IF EXISTS PorcOrgaoEsgD;\n",
    "DROP TABLE IF EXISTS PorcOrgaoAgua;\n",
    "DROP TABLE IF EXISTS PorcOrgaoEsg;\n",
    "\n",
    "CREATE VIEW PorcOrgaoAgua AS\n",
    "SELECT OSA.estado, 100 * OSA.OrgaoMunicipal / UF.n_municipios OM, 100 * OSA.AutarquiaMunicipal / UF.n_municipios AM, \n",
    "       100 * OSA.ConsorcioPub / UF.n_municipios CP, 100 * OSA.EntidadeEstadual / UF.n_municipios EE, 100 * OSA.outro_orgao_publico / UF.n_municipios OOP, 100 * OSA.outros / UF.n_municipios OTHERS\n",
    "FROM OrgaoSaneamentoAgua OSA, UF\n",
    "WHERE OSA.estado = UF.nome;\n",
    "\n",
    "CREATE VIEW PorcOrgaoEsg AS\n",
    "SELECT OSE.estado, 100 * OSE.OrgaoMunicipal / UF.n_municipios OM, 100 * OSE.AutarquiaMunicipal / UF.n_municipios AM, \n",
    "       100 * OSE.ConsorcioPub / UF.n_municipios CP, 100 * OSE.EntidadeEstadual / UF.n_municipios EE, 100 * OSE.outro_orgao_publico / UF.n_municipios OOP, 100 * OSE.outros / UF.n_municipios OTHERS\n",
    "FROM OrgaoSaneamentoEsgoto OSE, UF\n",
    "WHERE OSE.estado = UF.nome;\n",
    "\n",
    "SELECT * FROM PorcOrgaoAgua;\n",
    "SELECT * FROM PorcOrgaoEsg;"
   ]
  },
  {
   "cell_type": "markdown",
   "metadata": {},
   "source": [
    "* Porcentagem de cada tipo de órgão responsável pela regulação dos serviços de saneamento básico por UF, com número de casos de doenças"
   ]
  },
  {
   "cell_type": "code",
   "execution_count": 36,
   "metadata": {},
   "outputs": [
    {
     "data": {
      "application/vnd.jupyter.widget-view+json": {
       "model_id": "488f7dfb-875a-4f70-a7fe-c82e5334ad46",
       "version_major": 2,
       "version_minor": 0
      },
      "method": "display_data"
     },
     "metadata": {},
     "output_type": "display_data"
    },
    {
     "data": {
      "application/vnd.jupyter.widget-view+json": {
       "model_id": "54cd4810-0976-4200-88c3-dab52089359c",
       "version_major": 2,
       "version_minor": 0
      },
      "method": "display_data"
     },
     "metadata": {},
     "output_type": "display_data"
    }
   ],
   "source": [
    "DROP TABLE IF EXISTS PorcOrgaoAguaD;\n",
    "DROP TABLE IF EXISTS PorcOrgaoEsgD;\n",
    "\n",
    "CREATE VIEW PorcOrgaoAguaD AS\n",
    "SELECT POA.estado, UF.regiao, DpE.nomeDoenca, DpE.nCasos, OM, AM, CP, EE, OOP, OTHERS\n",
    "FROM PorcOrgaoAgua POA, DoencasPorEstado DpE, UF\n",
    "WHERE POA.estado = DpE.estado AND POA.estado = UF.nome\n",
    "ORDER BY nCasos;\n",
    "\n",
    "CREATE VIEW PorcOrgaoEsgD AS\n",
    "SELECT POE.estado, UF.regiao, DpE.nomeDoenca, DpE.nCasos, OM, AM, CP, EE, OOP, OTHERS\n",
    "FROM PorcOrgaoEsg POE, DoencasPorEstado DpE, UF\n",
    "WHERE POE.estado = DpE.estado AND POE.estado = UF.nome;\n",
    "\n",
    "SELECT regiao, nomedoenca, ncasos, om, am, cp, ee, oop, others FROM PorcOrgaoAguaD GROUP BY estado, regiao, nomedoenca ORDER BY ncasos;\n",
    "\n",
    "SELECT regiao, nomedoenca, ncasos, om, am, cp, ee, oop, others FROM PorcOrgaoEsgD GROUP BY estado, regiao, nomedoenca ORDER BY ncasos;"
   ]
  },
  {
   "cell_type": "code",
   "execution_count": 5,
   "metadata": {},
   "outputs": [
    {
     "data": {
      "application/vnd.jupyter.widget-view+json": {
       "model_id": "8e1822dc-38cb-427a-9d34-5f6f652b4e49",
       "version_major": 2,
       "version_minor": 0
      },
      "method": "display_data"
     },
     "metadata": {},
     "output_type": "display_data"
    }
   ],
   "source": [
    "SELECT DISTINCT tratamento FROM Doenca;"
   ]
  }
 ],
 "metadata": {
  "kernelspec": {
   "display_name": "SQL",
   "language": "SQL",
   "name": "sql"
  },
  "language_info": {
   "codemirror_mode": "sql",
   "file_extension": ".sql",
   "mimetype": "",
   "name": "SQL",
   "nbconverter_exporter": "",
   "version": ""
  },
  "toc": {
   "base_numbering": 1,
   "nav_menu": {},
   "number_sections": false,
   "sideBar": false,
   "skip_h1_title": false,
   "title_cell": "Table of Contents",
   "title_sidebar": "Contents",
   "toc_cell": false,
   "toc_position": {},
   "toc_section_display": false,
   "toc_window_display": false
  }
 },
 "nbformat": 4,
 "nbformat_minor": 2
}
